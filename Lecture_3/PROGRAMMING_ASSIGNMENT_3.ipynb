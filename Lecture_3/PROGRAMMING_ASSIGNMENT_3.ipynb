{
 "cells": [
  {
   "cell_type": "markdown",
   "id": "34c46e71-b301-4b08-8469-aecaa0cd61cc",
   "metadata": {},
   "source": [
    "Instructions:\n",
    "-\n",
    "\n",
    "1. Read the article: https://www.sciencedirect.com/science/article/abs/pii/S0031320322001753\n",
    "2. Replicate the study using the same dataset.\n",
    "3. Read articles about Adjusted Rand Index, Normalized Mutual Information, and Folkes-Mallows Index (only use paper published in IEEE, sciencedirect, springerlink, Taylor Francis).\n",
    "4. Aside from the Adjusted Rand Index (ARI), and Normalized Mutual Information (NMI), use the Folkes-Mallows Index (FMI), and compare the result of each performance index.\n",
    "5. Compare and contrast each performance index, what are the advantages and disadvantages of ARI, NMI, and FMI, and when to use each?\n",
    "6. Using Kmodes and Hierarchical Clustering, use the same dataset and perform categorical data clustering, use FMI, ARI, and NMI for the comparison of performance.\n",
    "7. Write your report using Latex. Your report should be focused on the \"why's and the what's\" of each performance metrices (i.e. why is FMI always greater than ARI and NMI? What's the problem with ARI and NMI?)."
   ]
  },
  {
   "cell_type": "markdown",
   "id": "1407e7ba",
   "metadata": {},
   "source": [
    "## 2. Replicating the study"
   ]
  },
  {
   "cell_type": "code",
   "execution_count": null,
   "id": "86d8ef9b",
   "metadata": {},
   "outputs": [],
   "source": [
    "# fetch dataset \n",
    "from ucimlrepo import fetch_ucirepo \n",
    "soybean = fetch_ucirepo(id=91) \n",
    "zoo = fetch_ucirepo(id=111) \n",
    "\n"
   ]
  },
  {
   "cell_type": "code",
   "execution_count": null,
   "id": "d53f3dfa",
   "metadata": {},
   "outputs": [],
   "source": [
    "# data (as pandas dataframes)\n",
    "x = soybean.data.features \n",
    "y = soybean.data.targets \n",
    "soybean_df = pd.merge(X, y, left_index=True, right_index=True)\n",
    "\n",
    "x = zoo.data.features \n",
    "y = zoo.data.targets \n",
    "zoo_df = pd.merge(X, y, left_index=True, right_index=True)\n",
    "\n",
    "\n",
    "\n",
    "soybean_df = soybean_df.dropna()\n",
    "zoo_df = zoo_df.dropna()\n",
    "\n"
   ]
  },
  {
   "cell_type": "code",
   "execution_count": null,
   "id": "7ef3f502",
   "metadata": {},
   "outputs": [],
   "source": [
    "def jaccard(s1, s2):\n",
    "    x = len(s1.intersection(s2))\n",
    "    y = len(s1.union(s2))\n",
    "    return x / y\n",
    "\n",
    "def ochiai(s1, s2):\n",
    "    x = len(s1.intersection(s2))\n",
    "    y = np.sqrt(len(s1) * len(s2))\n",
    "    return x / y\n",
    "\n",
    "def overlap(s1, set2):\n",
    "    x = len(set1.intersection(s2))\n",
    "    y = min(len(s1), len(s2))\n",
    "    return x / y\n",
    "\n",
    "def dice(s1, set2):\n",
    "    x = len(s1.intersection(s2))\n",
    "    y = len(s1) + len(s2)\n",
    "    return 2 * x / y\n",
    "\n",
    "def graph_based_representation(data):\n",
    "    num_samples, num_features = data.shape\n",
    "    similarity_matrix = np.zeros((num_features, num_features))\n",
    "    for i, j in itertools.combinations(range(num_features), 2):\n",
    "        similarity_matrix[i, j] = jaccard_coefficient(set(data[:, i]), set(data[:, j]))\n",
    "        similarity_matrix[j, i] = similarity_matrix[i, j]\n",
    "    G = nx.from_numpy_array(similarity_matrix)\n",
    "    embedding = SpectralEmbedding(n_components=p)\n",
    "    representation_matrix = embedding.fit_transform(similarity_matrix)\n",
    "    return representation_matrix\n",
    "\n",
    "def joint_operation(data, representation_matrix):\n",
    "    return np.dot(data, representation_matrix)\n",
    "\n",
    "def mean_operation(data, representation_matrix):\n",
    "    return np.mean(np.dot(data, representation_matrix), axis=1)\n",
    "\n",
    "def perform_clustering(data, k):\n",
    "    kmeans = KMeans(n_clusters=k)\n",
    "    return kmeans.fit_predict(data)\n"
   ]
  },
  {
   "cell_type": "code",
   "execution_count": null,
   "id": "756a0204",
   "metadata": {},
   "outputs": [],
   "source": []
  },
  {
   "cell_type": "code",
   "execution_count": null,
   "id": "855b2c1a",
   "metadata": {},
   "outputs": [],
   "source": []
  }
 ],
 "metadata": {
  "kernelspec": {
   "display_name": "Python 3 (ipykernel)",
   "language": "python",
   "name": "python3"
  },
  "language_info": {
   "codemirror_mode": {
    "name": "ipython",
    "version": 3
   },
   "file_extension": ".py",
   "mimetype": "text/x-python",
   "name": "python",
   "nbconvert_exporter": "python",
   "pygments_lexer": "ipython3",
   "version": "3.11.5"
  }
 },
 "nbformat": 4,
 "nbformat_minor": 5
}
