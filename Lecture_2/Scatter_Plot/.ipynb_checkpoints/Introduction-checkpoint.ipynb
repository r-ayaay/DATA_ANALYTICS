{
 "cells": [
  {
   "cell_type": "markdown",
   "metadata": {},
   "source": [
    "# Quick Recap\n",
    "---"
   ]
  },
  {
   "cell_type": "markdown",
   "metadata": {},
   "source": [
    "# Scatterplots\n",
    "---\n",
    "- Used to visualize the relationship between two numeric variables.\n",
    "- Created by placing a marker at the intersection of the x-value and the y-value of a data."
   ]
  },
  {
   "cell_type": "markdown",
   "metadata": {},
   "source": [
    "# Quick Introduction to Statistics:\n",
    "---\n",
    "Linear Models:\n",
    "- Independent or control variable (x)\n",
    "- Dependent or response variable (y)\n",
    "\n",
    "\n",
    "1. Scatterplots are used to visually show the dependence of the response variable to the dependent variable. For example, a data scientist may hypothesize that a apartment rental is affected by its floor area.\n",
    "<img src=\"https://plot.ly/~bturnbull/106/california-housing-prices-and-size-scatter-plot.png\"/>\n",
    "\n",
    "2. Scatterplots are also used to visually show the correlation between two unrelated variables. For example, two species of flowers from the same genus sampled in the same area, a data scientist may wonder what is the correlation between the petal size. Note that the flowers are unrelated to each other.\n",
    "<img src=\"https://plot.ly/~akandykeller/836/sepal-width-vs-petal-length.png\"/>\n",
    "\n",
    "3. Scatterplots are used in linear modelling, by drawing a line between the points (called a regression line), that minimizes the distance between each point to the line (minimizing error)\n",
    "\n",
    "are often displayed with a line of best fit, or regression line. In its simplest form this line is fitted to minimise the distances between each individual the point and this line, although there are many different types of regression. The equation of this line therefore describes the relationship between the variables.\n",
    "<img src=\"https://plot.ly/~OLI_Stanford/268/infant-vocalization-and-iq-regression-line.png\"/>"
   ]
  },
  {
   "cell_type": "code",
   "execution_count": null,
   "metadata": {},
   "outputs": [],
   "source": []
  }
 ],
 "metadata": {
  "kernelspec": {
   "display_name": "Python 3 (ipykernel)",
   "language": "python",
   "name": "python3"
  },
  "language_info": {
   "codemirror_mode": {
    "name": "ipython",
    "version": 3
   },
   "file_extension": ".py",
   "mimetype": "text/x-python",
   "name": "python",
   "nbconvert_exporter": "python",
   "pygments_lexer": "ipython3",
   "version": "3.11.5"
  }
 },
 "nbformat": 4,
 "nbformat_minor": 4
}
